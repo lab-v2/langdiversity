{
 "cells": [
  {
   "cell_type": "markdown",
   "metadata": {},
   "source": [
    "## Set up API Key for LLM"
   ]
  },
  {
   "cell_type": "code",
   "execution_count": 9,
   "metadata": {},
   "outputs": [],
   "source": [
    "import os\n",
    "from dotenv import load_dotenv\n",
    "load_dotenv()\n",
    "openai_api_key = os.getenv(\"OPENAI_API_KEY\")"
   ]
  },
  {
   "cell_type": "markdown",
   "metadata": {},
   "source": [
    "## Set up Diversity Measure"
   ]
  },
  {
   "cell_type": "code",
   "execution_count": 10,
   "metadata": {},
   "outputs": [],
   "source": [
    "from langdiversity.measures import ShannonEntropyMeasure\n",
    "diversity_measure = ShannonEntropyMeasure()"
   ]
  },
  {
   "cell_type": "markdown",
   "metadata": {},
   "source": [
    "## Set up Language Model"
   ]
  },
  {
   "cell_type": "code",
   "execution_count": 11,
   "metadata": {},
   "outputs": [],
   "source": [
    "from langdiversity.models import OpenAIModel\n",
    "from langdiversity.parser import extract_last_letters\n",
    "model = OpenAIModel(openai_api_key=openai_api_key, extractor=extract_last_letters, temperature=0.3)"
   ]
  },
  {
   "cell_type": "markdown",
   "metadata": {},
   "source": [
    "## Set up Diversity Measure Calculator Utility"
   ]
  },
  {
   "cell_type": "code",
   "execution_count": 12,
   "metadata": {},
   "outputs": [],
   "source": [
    "from langdiversity.utils import DiversityMeasureCollector\n",
    "diversity_collector = DiversityMeasureCollector(model=model, num_responses=1, diversity_measure=diversity_measure)"
   ]
  },
  {
   "cell_type": "markdown",
   "metadata": {},
   "source": [
    "## Set up Few-Shot Prompts"
   ]
  },
  {
   "cell_type": "code",
   "execution_count": 13,
   "metadata": {},
   "outputs": [],
   "source": [
    "original_question = \"\\nAt the end, say 'the answer is [put the concatenated word here]'.\\nQuestion: Take the last letter of each word in \\\"Tal Evan Lesley Sidney\\\" and concatenate them..\"\n",
    "\n",
    "fewshot_prompts = [\n",
    "    f\"\\nPrompt 1:\\nExample 1: Concatenate the last letters of 'Hello World' -> 'od'\\nExample 2: Concatenate the last letters of 'Python Ruby Sapphire' -> 'nye'\\nExample 3: Concatenate the last letters of 'Learning Teaching Assistant' -> 'ggt'\\nExample 4: Concatenate the last letters of 'Reading Writing Center' -> 'ggr'\\nExample 5: Concatenate the last letters of 'Singing Dancing Person' -> 'ggn'{original_question}\",\n",
    "    f\"\\nPrompt 2:\\nExample 1: Get the last letters of 'Innovation Creation' and concatenate them -> 'nn'\\nExample 2: Get the last letters of 'Motivation Dedications' and concatenate them -> 'ns'\\nExample 3: Get the last letters of 'Education Solute' and concatenate them -> 'ne'\\nExample 4: Get the last letters of 'Integration Pizza' and concatenate them -> 'na'\\nExample 5: Get the last letters of 'Inspiration Aspire' and concatenate them -> 'ne'{original_question}\",\n",
    "    f\"\\nPrompt 3:\\nExample 1: For 'Dance Sing', the last letters when concatenated form -> 'eg'\\nExample 2: For 'Jump School', the last letters when concatenated form -> 'pl'\\nExample 3: For 'Run Walk', the last letters when concatenated form -> 'nk'\\nExample 4: For 'Hop Jam', the last letters when concatenated form -> 'pm'\\nExample 5: For 'Sit Stand', the last letters when concatenated form -> 'td'{original_question}\",\n",
    "    f\"\\nPrompt 4:\\nExample 1: From 'Cake Bake', the concatenated last letters are -> 'ee'\\nExample 2: From 'Drive Ride', the concatenated last letters are -> 'ee'\\nExample 3: From 'Love Live', the concatenated last letters are -> 'ee'\\nExample 4: From 'Give Take', the concatenated last letters are -> 'ee'\\nExample 5: From 'Make Bake', the concatenated last letters are -> 'ee'{original_question}\",\n",
    "    f\"\\nPrompt 5:\\nExample 1: 'Read Write Dogma Deed' ends in -> 'dead'\\nExample 2: 'Play Stay Game Bin' ends in -> 'yyen'\\nExample 3: 'Dream Scream Deem Scheme' ends in -> 'mmme'\\nExample 4: 'Teach Reach Hands Sky' ends in -> 'hhsy'\\nExample 5: 'Learn Earn Pay Gap' ends in -> 'nnyp'{original_question}\"\n",
    "]"
   ]
  },
  {
   "cell_type": "markdown",
   "metadata": {},
   "source": [
    "## Pass the questions to the Language Model, perform calculation based on the diversity of its responses."
   ]
  },
  {
   "cell_type": "code",
   "execution_count": 14,
   "metadata": {},
   "outputs": [
    {
     "name": "stdout",
     "output_type": "stream",
     "text": [
      "[1/5] Collecting 10 responses... ✓\n",
      "[1/5] Performing diversity measure calculations... ✓\n",
      "Prompt 1: \n",
      "Prompt 1:\n",
      "Example 1: Concatenate the last letters of 'Hello World' -> 'od'\n",
      "Example 2: Concatenate the last letters of 'Python Ruby Sapphire' -> 'nye'\n",
      "Example 3: Concatenate the last letters of 'Learning Teaching Assistant' -> 'ggt'\n",
      "Example 4: Concatenate the last letters of 'Reading Writing Center' -> 'ggr'\n",
      "Example 5: Concatenate the last letters of 'Singing Dancing Person' -> 'ggn'\n",
      "At the end, say 'the answer is [put the concatenated word here]'.\n",
      "Question: Take the last letter of each word in \"Tal Evan Lesley Sidney\" and concatenate them..\n",
      "Responses: lnyy, lnyy, lnyy, lnyy, lnyy, lnyy, , lnyy, lnyy, lnyy\n",
      "Diversity Measure (ShannonEntropyMeasure): 0.4689955935892812\n",
      "[2/5] Collecting 10 responses... ✓\n",
      "[2/5] Performing diversity measure calculations... ✓\n",
      "Prompt 2: \n",
      "Prompt 2:\n",
      "Example 1: Get the last letters of 'Innovation Creation' and concatenate them -> 'nn'\n",
      "Example 2: Get the last letters of 'Motivation Dedications' and concatenate them -> 'ns'\n",
      "Example 3: Get the last letters of 'Education Solute' and concatenate them -> 'ne'\n",
      "Example 4: Get the last letters of 'Integration Pizza' and concatenate them -> 'na'\n",
      "Example 5: Get the last letters of 'Inspiration Aspire' and concatenate them -> 'ne'\n",
      "At the end, say 'the answer is [put the concatenated word here]'.\n",
      "Question: Take the last letter of each word in \"Tal Evan Lesley Sidney\" and concatenate them..\n",
      "Responses: lnyy, lnyy, lnyy, lnyy, lnyy, lnyy, lnyy, lnyy, lnyy, lnyy\n",
      "Diversity Measure (ShannonEntropyMeasure): 0.0\n",
      "[3/5] Collecting 10 responses... ✓\n",
      "[3/5] Performing diversity measure calculations... ✓\n",
      "Prompt 3: \n",
      "Prompt 3:\n",
      "Example 1: For 'Dance Sing', the last letters when concatenated form -> 'eg'\n",
      "Example 2: For 'Jump School', the last letters when concatenated form -> 'pl'\n",
      "Example 3: For 'Run Walk', the last letters when concatenated form -> 'nk'\n",
      "Example 4: For 'Hop Jam', the last letters when concatenated form -> 'pm'\n",
      "Example 5: For 'Sit Stand', the last letters when concatenated form -> 'td'\n",
      "At the end, say 'the answer is [put the concatenated word here]'.\n",
      "Question: Take the last letter of each word in \"Tal Evan Lesley Sidney\" and concatenate them..\n",
      "Responses: lney, lnyny, lnyny, lnyny, lney, , lnyny, lndy, lnyny, lnyny\n",
      "Diversity Measure (ShannonEntropyMeasure): 1.5709505944546687\n",
      "[4/5] Collecting 10 responses... ✓\n",
      "[4/5] Performing diversity measure calculations... ✓\n",
      "Prompt 4: \n",
      "Prompt 4:\n",
      "Example 1: From 'Cake Bake', the concatenated last letters are -> 'ee'\n",
      "Example 2: From 'Drive Ride', the concatenated last letters are -> 'ee'\n",
      "Example 3: From 'Love Live', the concatenated last letters are -> 'ee'\n",
      "Example 4: From 'Give Take', the concatenated last letters are -> 'ee'\n",
      "Example 5: From 'Make Bake', the concatenated last letters are -> 'ee'\n",
      "At the end, say 'the answer is [put the concatenated word here]'.\n",
      "Question: Take the last letter of each word in \"Tal Evan Lesley Sidney\" and concatenate them..\n",
      "Responses: lnyy, lnyy, lnyy, lnyy, lnyy, lnyy, lnyy, lnyy, lnyy, lnyy\n",
      "Diversity Measure (ShannonEntropyMeasure): 0.0\n",
      "[5/5] Collecting 10 responses... \\"
     ]
    }
   ],
   "source": [
    "diversity_collector.collect(fewshot_prompts, verbose=True)  "
   ]
  },
  {
   "cell_type": "markdown",
   "metadata": {},
   "source": [
    "## Set up Prompt Selection Utility"
   ]
  },
  {
   "cell_type": "code",
   "execution_count": null,
   "metadata": {},
   "outputs": [],
   "source": [
    "from langdiversity.utils import PromptSelection\n",
    "filter = PromptSelection(data=diversity_collector.data, selection=\"min\")\n",
    "prompts = filter.select()"
   ]
  },
  {
   "cell_type": "markdown",
   "metadata": {},
   "source": [
    "## Display Prompt with the Minimum Diversity Measure (Entropy)"
   ]
  },
  {
   "cell_type": "code",
   "execution_count": null,
   "metadata": {},
   "outputs": [
    {
     "name": "stdout",
     "output_type": "stream",
     "text": [
      "DIVERSITY SCORE: 0.0\n",
      "SELECTED PROMPTS:\n",
      "\n",
      "(A)\n",
      "Example 1: Concatenate the last letters of 'Hello World' -> 'od'\n",
      "Example 2: Concatenate the last letters of 'Python Ruby Sapphire' -> 'nye'\n",
      "Example 3: Concatenate the last letters of 'Learning Teaching Assistant' -> 'ggt'\n",
      "Example 4: Concatenate the last letters of 'Reading Writing Center' -> 'ggr'\n",
      "Example 5: Concatenate the last letters of 'Singing Dancing Person' -> 'ggn'\n",
      "At the end, say 'the answer is [put the concatenated word here]'.\n",
      "Question: Take the last letter of each word in \"Tal Evan Lesley Sidney\" and concatenate them..\n",
      "--------------------------------------------------------------------------------\n",
      "\n",
      "(B)\n",
      "Example 1: Get the last letters of 'Innovation Creation' and concatenate them -> 'nn'\n",
      "Example 2: Get the last letters of 'Motivation Dedications' and concatenate them -> 'ns'\n",
      "Example 3: Get the last letters of 'Education Solute' and concatenate them -> 'ne'\n",
      "Example 4: Get the last letters of 'Integration Pizza' and concatenate them -> 'na'\n",
      "Example 5: Get the last letters of 'Inspiration Aspire' and concatenate them -> 'ne'\n",
      "At the end, say 'the answer is [put the concatenated word here]'.\n",
      "Question: Take the last letter of each word in \"Tal Evan Lesley Sidney\" and concatenate them..\n",
      "--------------------------------------------------------------------------------\n",
      "\n",
      "(D)\n",
      "Example 1: From 'Cake Bake', the concatenated last letters are -> 'ee'\n",
      "Example 2: From 'Drive Ride', the concatenated last letters are -> 'ee'\n",
      "Example 3: From 'Love Live', the concatenated last letters are -> 'ee'\n",
      "Example 4: From 'Give Take', the concatenated last letters are -> 'ee'\n",
      "Example 5: From 'Make Bake', the concatenated last letters are -> 'ee'\n",
      "At the end, say 'the answer is [put the concatenated word here]'.\n",
      "Question: Take the last letter of each word in \"Tal Evan Lesley Sidney\" and concatenate them..\n",
      "--------------------------------------------------------------------------------\n"
     ]
    }
   ],
   "source": [
    "print(f\"DIVERSITY SCORE: {prompts['diversity']}\")\n",
    "print(\"SELECTED PROMPTS:\")\n",
    "for prompt in prompts['selected_prompts']:\n",
    "    print(prompt)\n",
    "    print('-' * 80)  "
   ]
  }
 ],
 "metadata": {
  "kernelspec": {
   "display_name": "venv",
   "language": "python",
   "name": "python3"
  },
  "language_info": {
   "codemirror_mode": {
    "name": "ipython",
    "version": 3
   },
   "file_extension": ".py",
   "mimetype": "text/x-python",
   "name": "python",
   "nbconvert_exporter": "python",
   "pygments_lexer": "ipython3",
   "version": "3.10.2"
  }
 },
 "nbformat": 4,
 "nbformat_minor": 2
}
